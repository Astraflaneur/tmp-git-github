{
 "cells": [
  {
   "cell_type": "code",
   "execution_count": null,
   "id": "c95f0474",
   "metadata": {},
   "outputs": [],
   "source": [
    "import torch\n",
    "import torch.nn as nn\n",
    "import torch.nn.functional as F\n",
    "\n",
    "# Sample input and target\n",
    "x = torch.randn(10, 5)  # 10 samples, 5 features\n",
    "y = torch.randint(0, 2, (10,))  # Binary labels (0 or 1)"
   ]
  },
  {
   "cell_type": "code",
   "execution_count": null,
   "id": "72c19950",
   "metadata": {},
   "outputs": [],
   "source": [
    "class SimpleNN(nn.Module):\n",
    "    def __init__(self):\n",
    "        super().__init__()\n",
    "        self.fc1 = nn.Linear(5, 3)\n",
    "        self.fc2 = nn.Linear(3, 2)  # Output logits for 2 classes\n",
    "\n",
    "    def forward(self, x):\n",
    "        x = self.fc1(x)\n",
    "        x = F.relu(x)\n",
    "        x = self.fc2(x)\n",
    "        return x\n"
   ]
  },
  {
   "cell_type": "code",
   "execution_count": null,
   "id": "7ab2b39d",
   "metadata": {},
   "outputs": [],
   "source": [
    "model = SimpleNN()\n",
    "criterion = nn.CrossEntropyLoss()\n",
    "optimizer = torch.optim.Adam(model.parameters(), lr=0.01)\n",
    "\n",
    "for epoch in range(1):  # One epoch for demo\n",
    "    optimizer.zero_grad()\n",
    "    out = model(x)\n",
    "\n",
    "    # Basic resourcefulness: Print shapes\n",
    "    #print(\"Model output shape:\", out.shape)  # Expected: (10, 2)\n",
    "    #print(\"Target shape:\", y.shape)          # Expected: (10,)\n",
    "    \n",
    "    # Print actual values for first few samples\n",
    "    #print(\"Output (first 2):\", out[:2])\n",
    "    #print(\"Target (first 2):\", y[:2])\n",
    "    \n",
    "    try:\n",
    "        loss = criterion(out, y)\n",
    "    except RuntimeError as e:\n",
    "        print(\"❌ Runtime error during loss computation:\")\n",
    "        print(e)\n",
    "        import pdb; pdb.set_trace()  # Interactive debug\n",
    "    else:\n",
    "        loss.backward()\n",
    "        optimizer.step()\n",
    "        print(\"✅ Step completed. Loss:\", loss.item())\n"
   ]
  },
  {
   "cell_type": "code",
   "execution_count": null,
   "id": "d964a8b6",
   "metadata": {},
   "outputs": [],
   "source": [
    "def test_model_output_shape():\n",
    "    test_x = torch.randn(4, 5)\n",
    "    test_model = SimpleNN()\n",
    "    out = test_model(test_x)\n",
    "    assert out.shape == (4, 2), \"Model output shape should be (batch_size, 2)\"\n",
    "\n",
    "test_model_output_shape()\n",
    "print(\"✅ Shape test passed!\")"
   ]
  },
  {
   "cell_type": "markdown",
   "id": "d01e5269",
   "metadata": {},
   "source": [
    "![failfast](../asset/fail%20early%20fail%20fast%20fail%20often.webp)"
   ]
  },
  {
   "cell_type": "markdown",
   "id": "9df58785",
   "metadata": {},
   "source": [
    "## Debugging Tips\n",
    "\n",
    "Debugging is mostly about being **resourceful** than memorizing tools. Here are some essential strategies:\n",
    "\n",
    "### Read the **Traceback** Carefully\n",
    "The last line shows the error type and location. Traceback lines show the call stack, top is where it **crashed**, bottom is where it **started**. Look for things like `Expected input shape (N, C, H, W) but got (N, D)` to understand shape mismatches.\n",
    "\n",
    "### Use **Google + Stackoverflow + ChatGPT** Effectively\n",
    "- Copy-paste error messages (or parts) into Google or StackOverflow. Add keywords like `\"PyTorch\"`, `\"CrossEntropyLoss\"` or `\"tensor shape\"` to narrow down. Use [Discuss PyTorch](https://discuss.pytorch.org) – great place for subtle issues.\n",
    "\n",
    "### Inspect Tensors Inline\n",
    "\n",
    "- Use `print(tensor.shape)` to verify shape compatibility.\n",
    "- Check model input/output pipeline step-by-step.\n",
    "- Use `try/except` blocks to isolate crashing lines.\n",
    "- Drop into `pdb.set_trace()` to explore local variables interactively.\n",
    "- Unit test shapes or logic with `assert`.\n",
    "\n",
    "```python\n",
    "print(x.shape)\n",
    "print(x.dtype)\n",
    "print(x.requires_grad)\n",
    "print(x[0])\n"
   ]
  }
 ],
 "metadata": {
  "kernelspec": {
   "display_name": "Python 3",
   "language": "python",
   "name": "python3"
  },
  "language_info": {
   "codemirror_mode": {
    "name": "ipython",
    "version": 3
   },
   "file_extension": ".py",
   "mimetype": "text/x-python",
   "name": "python",
   "nbconvert_exporter": "python",
   "pygments_lexer": "ipython3",
   "version": "3.12.0"
  }
 },
 "nbformat": 4,
 "nbformat_minor": 5
}
